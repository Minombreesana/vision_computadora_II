{
  "nbformat": 4,
  "nbformat_minor": 0,
  "metadata": {
    "colab": {
      "name": "TP_3 Transfer Learning.ipynb",
      "provenance": [],
      "collapsed_sections": []
    },
    "kernelspec": {
      "name": "python3",
      "display_name": "Python 3"
    },
    "language_info": {
      "name": "python"
    },
    "accelerator": "GPU",
    "widgets": {
      "application/vnd.jupyter.widget-state+json": {
        "284581582e3d4263bb16673332ef27c8": {
          "model_module": "@jupyter-widgets/controls",
          "model_name": "HBoxModel",
          "model_module_version": "1.5.0",
          "state": {
            "_dom_classes": [],
            "_model_module": "@jupyter-widgets/controls",
            "_model_module_version": "1.5.0",
            "_model_name": "HBoxModel",
            "_view_count": null,
            "_view_module": "@jupyter-widgets/controls",
            "_view_module_version": "1.5.0",
            "_view_name": "HBoxView",
            "box_style": "",
            "children": [
              "IPY_MODEL_5094f10578ac468bbb83dba342ccd321",
              "IPY_MODEL_e2e4a05af45447cb90191e88609c7831",
              "IPY_MODEL_d05b35db914742d7a0de5c4cc3314e23"
            ],
            "layout": "IPY_MODEL_a23f3135028e47318ff752b477652051"
          }
        },
        "5094f10578ac468bbb83dba342ccd321": {
          "model_module": "@jupyter-widgets/controls",
          "model_name": "HTMLModel",
          "model_module_version": "1.5.0",
          "state": {
            "_dom_classes": [],
            "_model_module": "@jupyter-widgets/controls",
            "_model_module_version": "1.5.0",
            "_model_name": "HTMLModel",
            "_view_count": null,
            "_view_module": "@jupyter-widgets/controls",
            "_view_module_version": "1.5.0",
            "_view_name": "HTMLView",
            "description": "",
            "description_tooltip": null,
            "layout": "IPY_MODEL_0359fc64a1a04315b0daf6b06360e71d",
            "placeholder": "​",
            "style": "IPY_MODEL_07d895bca6994c259036ae5cae66cb86",
            "value": ""
          }
        },
        "e2e4a05af45447cb90191e88609c7831": {
          "model_module": "@jupyter-widgets/controls",
          "model_name": "FloatProgressModel",
          "model_module_version": "1.5.0",
          "state": {
            "_dom_classes": [],
            "_model_module": "@jupyter-widgets/controls",
            "_model_module_version": "1.5.0",
            "_model_name": "FloatProgressModel",
            "_view_count": null,
            "_view_module": "@jupyter-widgets/controls",
            "_view_module_version": "1.5.0",
            "_view_name": "ProgressView",
            "bar_style": "success",
            "description": "",
            "description_tooltip": null,
            "layout": "IPY_MODEL_cfd8cf9a832041198b0320326bfc76b4",
            "max": 170498071,
            "min": 0,
            "orientation": "horizontal",
            "style": "IPY_MODEL_703d3116ddf942189f9c2056e1642d1b",
            "value": 170498071
          }
        },
        "d05b35db914742d7a0de5c4cc3314e23": {
          "model_module": "@jupyter-widgets/controls",
          "model_name": "HTMLModel",
          "model_module_version": "1.5.0",
          "state": {
            "_dom_classes": [],
            "_model_module": "@jupyter-widgets/controls",
            "_model_module_version": "1.5.0",
            "_model_name": "HTMLModel",
            "_view_count": null,
            "_view_module": "@jupyter-widgets/controls",
            "_view_module_version": "1.5.0",
            "_view_name": "HTMLView",
            "description": "",
            "description_tooltip": null,
            "layout": "IPY_MODEL_2f672e29e94a4def993e66184384d0bd",
            "placeholder": "​",
            "style": "IPY_MODEL_50966f1b52594263985e10eedbae9413",
            "value": " 170499072/? [00:03&lt;00:00, 55835577.01it/s]"
          }
        },
        "a23f3135028e47318ff752b477652051": {
          "model_module": "@jupyter-widgets/base",
          "model_name": "LayoutModel",
          "model_module_version": "1.2.0",
          "state": {
            "_model_module": "@jupyter-widgets/base",
            "_model_module_version": "1.2.0",
            "_model_name": "LayoutModel",
            "_view_count": null,
            "_view_module": "@jupyter-widgets/base",
            "_view_module_version": "1.2.0",
            "_view_name": "LayoutView",
            "align_content": null,
            "align_items": null,
            "align_self": null,
            "border": null,
            "bottom": null,
            "display": null,
            "flex": null,
            "flex_flow": null,
            "grid_area": null,
            "grid_auto_columns": null,
            "grid_auto_flow": null,
            "grid_auto_rows": null,
            "grid_column": null,
            "grid_gap": null,
            "grid_row": null,
            "grid_template_areas": null,
            "grid_template_columns": null,
            "grid_template_rows": null,
            "height": null,
            "justify_content": null,
            "justify_items": null,
            "left": null,
            "margin": null,
            "max_height": null,
            "max_width": null,
            "min_height": null,
            "min_width": null,
            "object_fit": null,
            "object_position": null,
            "order": null,
            "overflow": null,
            "overflow_x": null,
            "overflow_y": null,
            "padding": null,
            "right": null,
            "top": null,
            "visibility": null,
            "width": null
          }
        },
        "0359fc64a1a04315b0daf6b06360e71d": {
          "model_module": "@jupyter-widgets/base",
          "model_name": "LayoutModel",
          "model_module_version": "1.2.0",
          "state": {
            "_model_module": "@jupyter-widgets/base",
            "_model_module_version": "1.2.0",
            "_model_name": "LayoutModel",
            "_view_count": null,
            "_view_module": "@jupyter-widgets/base",
            "_view_module_version": "1.2.0",
            "_view_name": "LayoutView",
            "align_content": null,
            "align_items": null,
            "align_self": null,
            "border": null,
            "bottom": null,
            "display": null,
            "flex": null,
            "flex_flow": null,
            "grid_area": null,
            "grid_auto_columns": null,
            "grid_auto_flow": null,
            "grid_auto_rows": null,
            "grid_column": null,
            "grid_gap": null,
            "grid_row": null,
            "grid_template_areas": null,
            "grid_template_columns": null,
            "grid_template_rows": null,
            "height": null,
            "justify_content": null,
            "justify_items": null,
            "left": null,
            "margin": null,
            "max_height": null,
            "max_width": null,
            "min_height": null,
            "min_width": null,
            "object_fit": null,
            "object_position": null,
            "order": null,
            "overflow": null,
            "overflow_x": null,
            "overflow_y": null,
            "padding": null,
            "right": null,
            "top": null,
            "visibility": null,
            "width": null
          }
        },
        "07d895bca6994c259036ae5cae66cb86": {
          "model_module": "@jupyter-widgets/controls",
          "model_name": "DescriptionStyleModel",
          "model_module_version": "1.5.0",
          "state": {
            "_model_module": "@jupyter-widgets/controls",
            "_model_module_version": "1.5.0",
            "_model_name": "DescriptionStyleModel",
            "_view_count": null,
            "_view_module": "@jupyter-widgets/base",
            "_view_module_version": "1.2.0",
            "_view_name": "StyleView",
            "description_width": ""
          }
        },
        "cfd8cf9a832041198b0320326bfc76b4": {
          "model_module": "@jupyter-widgets/base",
          "model_name": "LayoutModel",
          "model_module_version": "1.2.0",
          "state": {
            "_model_module": "@jupyter-widgets/base",
            "_model_module_version": "1.2.0",
            "_model_name": "LayoutModel",
            "_view_count": null,
            "_view_module": "@jupyter-widgets/base",
            "_view_module_version": "1.2.0",
            "_view_name": "LayoutView",
            "align_content": null,
            "align_items": null,
            "align_self": null,
            "border": null,
            "bottom": null,
            "display": null,
            "flex": null,
            "flex_flow": null,
            "grid_area": null,
            "grid_auto_columns": null,
            "grid_auto_flow": null,
            "grid_auto_rows": null,
            "grid_column": null,
            "grid_gap": null,
            "grid_row": null,
            "grid_template_areas": null,
            "grid_template_columns": null,
            "grid_template_rows": null,
            "height": null,
            "justify_content": null,
            "justify_items": null,
            "left": null,
            "margin": null,
            "max_height": null,
            "max_width": null,
            "min_height": null,
            "min_width": null,
            "object_fit": null,
            "object_position": null,
            "order": null,
            "overflow": null,
            "overflow_x": null,
            "overflow_y": null,
            "padding": null,
            "right": null,
            "top": null,
            "visibility": null,
            "width": null
          }
        },
        "703d3116ddf942189f9c2056e1642d1b": {
          "model_module": "@jupyter-widgets/controls",
          "model_name": "ProgressStyleModel",
          "model_module_version": "1.5.0",
          "state": {
            "_model_module": "@jupyter-widgets/controls",
            "_model_module_version": "1.5.0",
            "_model_name": "ProgressStyleModel",
            "_view_count": null,
            "_view_module": "@jupyter-widgets/base",
            "_view_module_version": "1.2.0",
            "_view_name": "StyleView",
            "bar_color": null,
            "description_width": ""
          }
        },
        "2f672e29e94a4def993e66184384d0bd": {
          "model_module": "@jupyter-widgets/base",
          "model_name": "LayoutModel",
          "model_module_version": "1.2.0",
          "state": {
            "_model_module": "@jupyter-widgets/base",
            "_model_module_version": "1.2.0",
            "_model_name": "LayoutModel",
            "_view_count": null,
            "_view_module": "@jupyter-widgets/base",
            "_view_module_version": "1.2.0",
            "_view_name": "LayoutView",
            "align_content": null,
            "align_items": null,
            "align_self": null,
            "border": null,
            "bottom": null,
            "display": null,
            "flex": null,
            "flex_flow": null,
            "grid_area": null,
            "grid_auto_columns": null,
            "grid_auto_flow": null,
            "grid_auto_rows": null,
            "grid_column": null,
            "grid_gap": null,
            "grid_row": null,
            "grid_template_areas": null,
            "grid_template_columns": null,
            "grid_template_rows": null,
            "height": null,
            "justify_content": null,
            "justify_items": null,
            "left": null,
            "margin": null,
            "max_height": null,
            "max_width": null,
            "min_height": null,
            "min_width": null,
            "object_fit": null,
            "object_position": null,
            "order": null,
            "overflow": null,
            "overflow_x": null,
            "overflow_y": null,
            "padding": null,
            "right": null,
            "top": null,
            "visibility": null,
            "width": null
          }
        },
        "50966f1b52594263985e10eedbae9413": {
          "model_module": "@jupyter-widgets/controls",
          "model_name": "DescriptionStyleModel",
          "model_module_version": "1.5.0",
          "state": {
            "_model_module": "@jupyter-widgets/controls",
            "_model_module_version": "1.5.0",
            "_model_name": "DescriptionStyleModel",
            "_view_count": null,
            "_view_module": "@jupyter-widgets/base",
            "_view_module_version": "1.2.0",
            "_view_name": "StyleView",
            "description_width": ""
          }
        }
      }
    }
  },
  "cells": [
    {
      "cell_type": "code",
      "execution_count": 2,
      "metadata": {
        "colab": {
          "base_uri": "https://localhost:8080/"
        },
        "id": "ZJzA3Ae3gjYR",
        "outputId": "741b4961-c9dd-45c2-bbb2-4506a7cea039"
      },
      "outputs": [
        {
          "output_type": "stream",
          "name": "stdout",
          "text": [
            "Collecting torchmetrics\n",
            "  Downloading torchmetrics-0.8.2-py3-none-any.whl (409 kB)\n",
            "\u001b[?25l\r\u001b[K     |▉                               | 10 kB 30.1 MB/s eta 0:00:01\r\u001b[K     |█▋                              | 20 kB 19.1 MB/s eta 0:00:01\r\u001b[K     |██▍                             | 30 kB 10.3 MB/s eta 0:00:01\r\u001b[K     |███▏                            | 40 kB 4.4 MB/s eta 0:00:01\r\u001b[K     |████                            | 51 kB 4.5 MB/s eta 0:00:01\r\u001b[K     |████▉                           | 61 kB 5.3 MB/s eta 0:00:01\r\u001b[K     |█████▋                          | 71 kB 5.4 MB/s eta 0:00:01\r\u001b[K     |██████▍                         | 81 kB 5.5 MB/s eta 0:00:01\r\u001b[K     |███████▏                        | 92 kB 6.1 MB/s eta 0:00:01\r\u001b[K     |████████                        | 102 kB 5.2 MB/s eta 0:00:01\r\u001b[K     |████████▉                       | 112 kB 5.2 MB/s eta 0:00:01\r\u001b[K     |█████████▋                      | 122 kB 5.2 MB/s eta 0:00:01\r\u001b[K     |██████████▍                     | 133 kB 5.2 MB/s eta 0:00:01\r\u001b[K     |███████████▏                    | 143 kB 5.2 MB/s eta 0:00:01\r\u001b[K     |████████████                    | 153 kB 5.2 MB/s eta 0:00:01\r\u001b[K     |████████████▉                   | 163 kB 5.2 MB/s eta 0:00:01\r\u001b[K     |█████████████▋                  | 174 kB 5.2 MB/s eta 0:00:01\r\u001b[K     |██████████████▍                 | 184 kB 5.2 MB/s eta 0:00:01\r\u001b[K     |███████████████▏                | 194 kB 5.2 MB/s eta 0:00:01\r\u001b[K     |████████████████                | 204 kB 5.2 MB/s eta 0:00:01\r\u001b[K     |████████████████▉               | 215 kB 5.2 MB/s eta 0:00:01\r\u001b[K     |█████████████████▋              | 225 kB 5.2 MB/s eta 0:00:01\r\u001b[K     |██████████████████▍             | 235 kB 5.2 MB/s eta 0:00:01\r\u001b[K     |███████████████████▏            | 245 kB 5.2 MB/s eta 0:00:01\r\u001b[K     |████████████████████            | 256 kB 5.2 MB/s eta 0:00:01\r\u001b[K     |████████████████████▉           | 266 kB 5.2 MB/s eta 0:00:01\r\u001b[K     |█████████████████████▋          | 276 kB 5.2 MB/s eta 0:00:01\r\u001b[K     |██████████████████████▍         | 286 kB 5.2 MB/s eta 0:00:01\r\u001b[K     |███████████████████████▏        | 296 kB 5.2 MB/s eta 0:00:01\r\u001b[K     |████████████████████████        | 307 kB 5.2 MB/s eta 0:00:01\r\u001b[K     |████████████████████████▉       | 317 kB 5.2 MB/s eta 0:00:01\r\u001b[K     |█████████████████████████▋      | 327 kB 5.2 MB/s eta 0:00:01\r\u001b[K     |██████████████████████████▍     | 337 kB 5.2 MB/s eta 0:00:01\r\u001b[K     |███████████████████████████▏    | 348 kB 5.2 MB/s eta 0:00:01\r\u001b[K     |████████████████████████████    | 358 kB 5.2 MB/s eta 0:00:01\r\u001b[K     |████████████████████████████▉   | 368 kB 5.2 MB/s eta 0:00:01\r\u001b[K     |█████████████████████████████▋  | 378 kB 5.2 MB/s eta 0:00:01\r\u001b[K     |██████████████████████████████▍ | 389 kB 5.2 MB/s eta 0:00:01\r\u001b[K     |███████████████████████████████▏| 399 kB 5.2 MB/s eta 0:00:01\r\u001b[K     |████████████████████████████████| 409 kB 5.2 MB/s eta 0:00:01\r\u001b[K     |████████████████████████████████| 409 kB 5.2 MB/s \n",
            "\u001b[?25hCollecting pyDeprecate==0.3.*\n",
            "  Downloading pyDeprecate-0.3.2-py3-none-any.whl (10 kB)\n",
            "Requirement already satisfied: torch>=1.3.1 in /usr/local/lib/python3.7/dist-packages (from torchmetrics) (1.11.0+cu113)\n",
            "Requirement already satisfied: packaging in /usr/local/lib/python3.7/dist-packages (from torchmetrics) (21.3)\n",
            "Requirement already satisfied: numpy>=1.17.2 in /usr/local/lib/python3.7/dist-packages (from torchmetrics) (1.21.6)\n",
            "Requirement already satisfied: typing-extensions in /usr/local/lib/python3.7/dist-packages (from torch>=1.3.1->torchmetrics) (4.2.0)\n",
            "Requirement already satisfied: pyparsing!=3.0.5,>=2.0.2 in /usr/local/lib/python3.7/dist-packages (from packaging->torchmetrics) (3.0.9)\n",
            "Installing collected packages: pyDeprecate, torchmetrics\n",
            "Successfully installed pyDeprecate-0.3.2 torchmetrics-0.8.2\n"
          ]
        }
      ],
      "source": [
        "import numpy as np\n",
        "import matplotlib.pyplot as plt\n",
        "\n",
        "import torch\n",
        "import torchvision\n",
        "import torchsummary\n",
        "!pip install torchmetrics\n",
        "import torchmetrics"
      ]
    },
    {
      "cell_type": "markdown",
      "source": [
        "## Carga del dataset CIFAR10"
      ],
      "metadata": {
        "id": "M-rOfDhKjdh-"
      }
    },
    {
      "cell_type": "code",
      "source": [
        "train_set = torchvision.datasets.CIFAR10(root='./data', train=True, download=True)\n",
        "test_set = torchvision.datasets.CIFAR10(root='./data', train=False, download=True)"
      ],
      "metadata": {
        "colab": {
          "base_uri": "https://localhost:8080/",
          "height": 101,
          "referenced_widgets": [
            "284581582e3d4263bb16673332ef27c8",
            "5094f10578ac468bbb83dba342ccd321",
            "e2e4a05af45447cb90191e88609c7831",
            "d05b35db914742d7a0de5c4cc3314e23",
            "a23f3135028e47318ff752b477652051",
            "0359fc64a1a04315b0daf6b06360e71d",
            "07d895bca6994c259036ae5cae66cb86",
            "cfd8cf9a832041198b0320326bfc76b4",
            "703d3116ddf942189f9c2056e1642d1b",
            "2f672e29e94a4def993e66184384d0bd",
            "50966f1b52594263985e10eedbae9413"
          ]
        },
        "id": "Wn6JveLwi0OD",
        "outputId": "0f318ba1-fb1b-468d-e656-7058aac5d542"
      },
      "execution_count": 3,
      "outputs": [
        {
          "output_type": "stream",
          "name": "stdout",
          "text": [
            "Downloading https://www.cs.toronto.edu/~kriz/cifar-10-python.tar.gz to ./data/cifar-10-python.tar.gz\n"
          ]
        },
        {
          "output_type": "display_data",
          "data": {
            "text/plain": [
              "  0%|          | 0/170498071 [00:00<?, ?it/s]"
            ],
            "application/vnd.jupyter.widget-view+json": {
              "version_major": 2,
              "version_minor": 0,
              "model_id": "284581582e3d4263bb16673332ef27c8"
            }
          },
          "metadata": {}
        },
        {
          "output_type": "stream",
          "name": "stdout",
          "text": [
            "Extracting ./data/cifar-10-python.tar.gz to ./data\n",
            "Files already downloaded and verified\n"
          ]
        }
      ]
    },
    {
      "cell_type": "markdown",
      "source": [
        "Aplicamos transformaciones incluyendo la normalización"
      ],
      "metadata": {
        "id": "qyX8XG1MjmCd"
      }
    },
    {
      "cell_type": "code",
      "source": [
        "data_transforms = torchvision.transforms.Compose([\n",
        "                    torchvision.transforms.ToTensor(),\n",
        "                    torchvision.transforms.RandomHorizontalFlip(0.5),\n",
        "                    torchvision.transforms.ColorJitter(saturation=0.05, hue=0.05),\n",
        "                    torchvision.transforms.Normalize(mean=[0.485, 0.456, 0.406], std=[0.229, 0.224, 0.225])\n",
        "                  ])\n",
        "\n",
        "train_set = torchvision.datasets.CIFAR10(root='./data', train=True, download=True, transform= data_transforms)\n",
        "test_set = torchvision.datasets.CIFAR10(root='./data', train=False, download=True, transform = data_transforms)"
      ],
      "metadata": {
        "colab": {
          "base_uri": "https://localhost:8080/"
        },
        "id": "cvglOR3oi9BU",
        "outputId": "1e8ec4da-e4e2-4628-eaee-3e54879bb5bc"
      },
      "execution_count": 32,
      "outputs": [
        {
          "output_type": "stream",
          "name": "stdout",
          "text": [
            "Files already downloaded and verified\n",
            "Files already downloaded and verified\n"
          ]
        }
      ]
    },
    {
      "cell_type": "code",
      "source": [
        "valid_set_size = 5000\n",
        "\n",
        "train_set, valid_set = torch.utils.data.random_split(train_set, [len(train_set) - valid_set_size, valid_set_size])\n",
        "\n",
        "print(\"Tamaño del conjunto de entrenamiento: {}\".format(len(train_set)))\n",
        "print(\"Tamaño del conjunto de validación: {}\".format(len(valid_set)))"
      ],
      "metadata": {
        "colab": {
          "base_uri": "https://localhost:8080/"
        },
        "id": "H8pM-IOhjPyu",
        "outputId": "3c64aab4-61f7-4cd6-93a3-7b441dd43504"
      },
      "execution_count": 33,
      "outputs": [
        {
          "output_type": "stream",
          "name": "stdout",
          "text": [
            "Tamaño del conjunto de entrenamiento: 45000\n",
            "Tamaño del conjunto de validación: 5000\n"
          ]
        }
      ]
    },
    {
      "cell_type": "code",
      "source": [
        "train_loader = torch.utils.data.DataLoader(train_set, batch_size=45, shuffle=True)\n",
        "valid_loader = torch.utils.data.DataLoader(valid_set, batch_size=len(valid_set), shuffle=True)"
      ],
      "metadata": {
        "id": "-crj34uxjUgO"
      },
      "execution_count": 34,
      "outputs": []
    },
    {
      "cell_type": "markdown",
      "source": [
        "## Carga del modelo base"
      ],
      "metadata": {
        "id": "-DE7fNLXjwXE"
      }
    },
    {
      "cell_type": "code",
      "source": [
        "vgg11_model = torchvision.models.vgg11(pretrained=True)\n",
        "\n",
        "vgg11_model.to(\"cuda\")\n",
        "\n",
        "torchsummary.summary(vgg11_model, input_size=(3, 32, 32))\n",
        "vgg11_model.modules"
      ],
      "metadata": {
        "colab": {
          "base_uri": "https://localhost:8080/"
        },
        "id": "1Rs8gs8Xjcaz",
        "outputId": "815fcde8-e615-4545-8a08-0138a7c8127d"
      },
      "execution_count": 17,
      "outputs": [
        {
          "output_type": "stream",
          "name": "stdout",
          "text": [
            "----------------------------------------------------------------\n",
            "        Layer (type)               Output Shape         Param #\n",
            "================================================================\n",
            "            Conv2d-1           [-1, 64, 32, 32]           1,792\n",
            "              ReLU-2           [-1, 64, 32, 32]               0\n",
            "         MaxPool2d-3           [-1, 64, 16, 16]               0\n",
            "            Conv2d-4          [-1, 128, 16, 16]          73,856\n",
            "              ReLU-5          [-1, 128, 16, 16]               0\n",
            "         MaxPool2d-6            [-1, 128, 8, 8]               0\n",
            "            Conv2d-7            [-1, 256, 8, 8]         295,168\n",
            "              ReLU-8            [-1, 256, 8, 8]               0\n",
            "            Conv2d-9            [-1, 256, 8, 8]         590,080\n",
            "             ReLU-10            [-1, 256, 8, 8]               0\n",
            "        MaxPool2d-11            [-1, 256, 4, 4]               0\n",
            "           Conv2d-12            [-1, 512, 4, 4]       1,180,160\n",
            "             ReLU-13            [-1, 512, 4, 4]               0\n",
            "           Conv2d-14            [-1, 512, 4, 4]       2,359,808\n",
            "             ReLU-15            [-1, 512, 4, 4]               0\n",
            "        MaxPool2d-16            [-1, 512, 2, 2]               0\n",
            "           Conv2d-17            [-1, 512, 2, 2]       2,359,808\n",
            "             ReLU-18            [-1, 512, 2, 2]               0\n",
            "           Conv2d-19            [-1, 512, 2, 2]       2,359,808\n",
            "             ReLU-20            [-1, 512, 2, 2]               0\n",
            "        MaxPool2d-21            [-1, 512, 1, 1]               0\n",
            "AdaptiveAvgPool2d-22            [-1, 512, 7, 7]               0\n",
            "           Linear-23                 [-1, 4096]     102,764,544\n",
            "             ReLU-24                 [-1, 4096]               0\n",
            "          Dropout-25                 [-1, 4096]               0\n",
            "           Linear-26                 [-1, 4096]      16,781,312\n",
            "             ReLU-27                 [-1, 4096]               0\n",
            "          Dropout-28                 [-1, 4096]               0\n",
            "           Linear-29                 [-1, 1000]       4,097,000\n",
            "================================================================\n",
            "Total params: 132,863,336\n",
            "Trainable params: 132,863,336\n",
            "Non-trainable params: 0\n",
            "----------------------------------------------------------------\n",
            "Input size (MB): 0.01\n",
            "Forward/backward pass size (MB): 2.94\n",
            "Params size (MB): 506.83\n",
            "Estimated Total Size (MB): 509.78\n",
            "----------------------------------------------------------------\n"
          ]
        },
        {
          "output_type": "execute_result",
          "data": {
            "text/plain": [
              "<bound method Module.modules of VGG(\n",
              "  (features): Sequential(\n",
              "    (0): Conv2d(3, 64, kernel_size=(3, 3), stride=(1, 1), padding=(1, 1))\n",
              "    (1): ReLU(inplace=True)\n",
              "    (2): MaxPool2d(kernel_size=2, stride=2, padding=0, dilation=1, ceil_mode=False)\n",
              "    (3): Conv2d(64, 128, kernel_size=(3, 3), stride=(1, 1), padding=(1, 1))\n",
              "    (4): ReLU(inplace=True)\n",
              "    (5): MaxPool2d(kernel_size=2, stride=2, padding=0, dilation=1, ceil_mode=False)\n",
              "    (6): Conv2d(128, 256, kernel_size=(3, 3), stride=(1, 1), padding=(1, 1))\n",
              "    (7): ReLU(inplace=True)\n",
              "    (8): Conv2d(256, 256, kernel_size=(3, 3), stride=(1, 1), padding=(1, 1))\n",
              "    (9): ReLU(inplace=True)\n",
              "    (10): MaxPool2d(kernel_size=2, stride=2, padding=0, dilation=1, ceil_mode=False)\n",
              "    (11): Conv2d(256, 512, kernel_size=(3, 3), stride=(1, 1), padding=(1, 1))\n",
              "    (12): ReLU(inplace=True)\n",
              "    (13): Conv2d(512, 512, kernel_size=(3, 3), stride=(1, 1), padding=(1, 1))\n",
              "    (14): ReLU(inplace=True)\n",
              "    (15): MaxPool2d(kernel_size=2, stride=2, padding=0, dilation=1, ceil_mode=False)\n",
              "    (16): Conv2d(512, 512, kernel_size=(3, 3), stride=(1, 1), padding=(1, 1))\n",
              "    (17): ReLU(inplace=True)\n",
              "    (18): Conv2d(512, 512, kernel_size=(3, 3), stride=(1, 1), padding=(1, 1))\n",
              "    (19): ReLU(inplace=True)\n",
              "    (20): MaxPool2d(kernel_size=2, stride=2, padding=0, dilation=1, ceil_mode=False)\n",
              "  )\n",
              "  (avgpool): AdaptiveAvgPool2d(output_size=(7, 7))\n",
              "  (classifier): Sequential(\n",
              "    (0): Linear(in_features=25088, out_features=4096, bias=True)\n",
              "    (1): ReLU(inplace=True)\n",
              "    (2): Dropout(p=0.5, inplace=False)\n",
              "    (3): Linear(in_features=4096, out_features=4096, bias=True)\n",
              "    (4): ReLU(inplace=True)\n",
              "    (5): Dropout(p=0.5, inplace=False)\n",
              "    (6): Linear(in_features=4096, out_features=1000, bias=True)\n",
              "  )\n",
              ")>"
            ]
          },
          "metadata": {},
          "execution_count": 17
        }
      ]
    },
    {
      "cell_type": "markdown",
      "source": [
        "## Congelar capas base"
      ],
      "metadata": {
        "id": "29jjThG9a0rG"
      }
    },
    {
      "cell_type": "code",
      "source": [
        "for param in vgg11_model.parameters():\n",
        "    param.requires_grad = False"
      ],
      "metadata": {
        "id": "FtDWrAJYaPPZ"
      },
      "execution_count": 18,
      "outputs": []
    },
    {
      "cell_type": "code",
      "source": [
        "last_layer_in_features = vgg11_model.classifier[-1].in_features\n",
        "vgg11_model.classifier[-1] = torch.nn.Linear(in_features=last_layer_in_features, out_features=10)"
      ],
      "metadata": {
        "id": "d4w5eoToa5sq"
      },
      "execution_count": 19,
      "outputs": []
    },
    {
      "cell_type": "code",
      "source": [
        "optimizer_ft = torch.optim.Adam(vgg11_model.parameters(), lr=0.0001)\n",
        "criterion = torch.nn.CrossEntropyLoss()"
      ],
      "metadata": {
        "id": "HRDthcKVa_eC"
      },
      "execution_count": 20,
      "outputs": []
    },
    {
      "cell_type": "code",
      "source": [
        "def train(model, criterion, optimizer, train_loader, valid_loader, epochs):\n",
        "\n",
        "    accuracy_metric = torchmetrics.Accuracy()\n",
        "\n",
        "    if torch.cuda.is_available():\n",
        "        model.to(\"cuda\")\n",
        "        accuracy_metric.to(\"cuda\")\n",
        "\n",
        "    train_loss = []\n",
        "    train_acc = []\n",
        "    valid_loss = []\n",
        "    valid_acc = []\n",
        "\n",
        "    for epoch in range(epochs):\n",
        "\n",
        "        # Pongo el modelo en modo entrenamiento\n",
        "        model.train()\n",
        "\n",
        "        epoch_train_loss = 0.0\n",
        "        epoch_train_accuracy = 0.0\n",
        "\n",
        "        for train_data, train_target in train_loader:\n",
        "            \n",
        "            if torch.cuda.is_available():\n",
        "                train_data = train_data.to(\"cuda\")\n",
        "                train_target = train_target.to(\"cuda\")\n",
        "\n",
        "            optimizer.zero_grad()\n",
        "            output = model(train_data)\n",
        "            loss = criterion(output, train_target)\n",
        "            epoch_train_loss += loss.item()\n",
        "            loss.backward()\n",
        "            optimizer.step()\n",
        "\n",
        "            accuracy = accuracy_metric(output, train_target)\n",
        "            epoch_train_accuracy += accuracy.item()\n",
        "\n",
        "        epoch_train_loss = epoch_train_loss / len(train_loader)\n",
        "        epoch_train_accuracy = epoch_train_accuracy / len(train_loader)\n",
        "        train_loss.append(epoch_train_loss)\n",
        "        train_acc.append(epoch_train_accuracy)\n",
        "\n",
        "        # Pongo el modelo en modo testeo\n",
        "        model.eval()\n",
        "\n",
        "        epoch_valid_loss = 0.0\n",
        "        epoch_valid_accuracy = 0.0\n",
        "\n",
        "        for valid_data, valid_target in valid_loader:\n",
        "            if torch.cuda.is_available():\n",
        "                valid_data = valid_data.to(\"cuda\")\n",
        "                valid_target = valid_target.to(\"cuda\")\n",
        "\n",
        "            output = model(valid_data)\n",
        "            epoch_valid_loss += criterion(output, valid_target).item()\n",
        "            epoch_valid_accuracy += accuracy_metric(output, valid_target).item()\n",
        "            \n",
        "        epoch_valid_loss = epoch_valid_loss / len(valid_loader)\n",
        "        epoch_valid_accuracy = epoch_valid_accuracy / len(valid_loader)\n",
        "        valid_loss.append(epoch_valid_loss)\n",
        "        valid_acc.append(epoch_valid_accuracy)\n",
        "\n",
        "        print(\"Epoch: {}/{} - Train loss {:.6f} - Train Accuracy {:.6f} - Valid Loss {:.6f} - Valid Accuracy {:.6f}\".format(\n",
        "        epoch+1, epochs, epoch_train_loss, epoch_train_accuracy, epoch_valid_loss, epoch_valid_accuracy))\n",
        "\n",
        "    history = {}\n",
        "    history[\"train_loss\"] = train_loss\n",
        "    history[\"train_acc\"] = train_acc\n",
        "    history[\"valid_loss\"] = valid_loss\n",
        "    history[\"valid_acc\"] = valid_acc\n",
        "\n",
        "    return model, history"
      ],
      "metadata": {
        "id": "eT04Bl7AbCxF"
      },
      "execution_count": 21,
      "outputs": []
    },
    {
      "cell_type": "code",
      "source": [
        "result_model, history = train(vgg11_model, criterion, optimizer_ft, train_loader, valid_loader, 30)"
      ],
      "metadata": {
        "colab": {
          "base_uri": "https://localhost:8080/"
        },
        "id": "xh8UFhyWbaxS",
        "outputId": "c86aa5d7-a57d-4c63-8957-094e1b5b8637"
      },
      "execution_count": 23,
      "outputs": [
        {
          "output_type": "stream",
          "name": "stdout",
          "text": [
            "Epoch: 1/30 - Train loss 1.031241 - Train Accuracy 0.638467 - Valid Loss 0.967570 - Valid Accuracy 0.669400\n",
            "Epoch: 2/30 - Train loss 1.031441 - Train Accuracy 0.639978 - Valid Loss 0.964094 - Valid Accuracy 0.674400\n",
            "Epoch: 3/30 - Train loss 1.035288 - Train Accuracy 0.640422 - Valid Loss 0.964044 - Valid Accuracy 0.667800\n",
            "Epoch: 4/30 - Train loss 1.030847 - Train Accuracy 0.639600 - Valid Loss 0.967177 - Valid Accuracy 0.666000\n",
            "Epoch: 5/30 - Train loss 1.035088 - Train Accuracy 0.638133 - Valid Loss 0.963873 - Valid Accuracy 0.670200\n",
            "Epoch: 6/30 - Train loss 1.026935 - Train Accuracy 0.643667 - Valid Loss 0.960739 - Valid Accuracy 0.671800\n",
            "Epoch: 7/30 - Train loss 1.024762 - Train Accuracy 0.639844 - Valid Loss 0.965251 - Valid Accuracy 0.673400\n",
            "Epoch: 8/30 - Train loss 1.031880 - Train Accuracy 0.637889 - Valid Loss 0.973892 - Valid Accuracy 0.671800\n",
            "Epoch: 9/30 - Train loss 1.023797 - Train Accuracy 0.638889 - Valid Loss 0.965432 - Valid Accuracy 0.672600\n",
            "Epoch: 10/30 - Train loss 1.022457 - Train Accuracy 0.641222 - Valid Loss 0.964464 - Valid Accuracy 0.664800\n",
            "Epoch: 11/30 - Train loss 1.025523 - Train Accuracy 0.641689 - Valid Loss 0.962953 - Valid Accuracy 0.669800\n",
            "Epoch: 12/30 - Train loss 1.030715 - Train Accuracy 0.639644 - Valid Loss 0.966738 - Valid Accuracy 0.667600\n",
            "Epoch: 13/30 - Train loss 1.028605 - Train Accuracy 0.640822 - Valid Loss 0.961857 - Valid Accuracy 0.670000\n",
            "Epoch: 14/30 - Train loss 1.022151 - Train Accuracy 0.641600 - Valid Loss 0.954088 - Valid Accuracy 0.673800\n",
            "Epoch: 15/30 - Train loss 1.028126 - Train Accuracy 0.639800 - Valid Loss 0.967210 - Valid Accuracy 0.668200\n",
            "Epoch: 16/30 - Train loss 1.021547 - Train Accuracy 0.643556 - Valid Loss 0.965356 - Valid Accuracy 0.663000\n",
            "Epoch: 17/30 - Train loss 1.026400 - Train Accuracy 0.639422 - Valid Loss 0.964766 - Valid Accuracy 0.663200\n",
            "Epoch: 18/30 - Train loss 1.024441 - Train Accuracy 0.640844 - Valid Loss 0.969303 - Valid Accuracy 0.667600\n",
            "Epoch: 19/30 - Train loss 1.025830 - Train Accuracy 0.639178 - Valid Loss 0.972747 - Valid Accuracy 0.669400\n",
            "Epoch: 20/30 - Train loss 1.018439 - Train Accuracy 0.643978 - Valid Loss 0.956996 - Valid Accuracy 0.674800\n",
            "Epoch: 21/30 - Train loss 1.030639 - Train Accuracy 0.640022 - Valid Loss 0.974725 - Valid Accuracy 0.670600\n",
            "Epoch: 22/30 - Train loss 1.020366 - Train Accuracy 0.642956 - Valid Loss 0.962549 - Valid Accuracy 0.676400\n",
            "Epoch: 23/30 - Train loss 1.027009 - Train Accuracy 0.639400 - Valid Loss 0.964268 - Valid Accuracy 0.666600\n",
            "Epoch: 24/30 - Train loss 1.023301 - Train Accuracy 0.639933 - Valid Loss 0.968968 - Valid Accuracy 0.660000\n",
            "Epoch: 25/30 - Train loss 1.028168 - Train Accuracy 0.638022 - Valid Loss 0.957856 - Valid Accuracy 0.675800\n",
            "Epoch: 26/30 - Train loss 1.022101 - Train Accuracy 0.642133 - Valid Loss 0.963159 - Valid Accuracy 0.666200\n",
            "Epoch: 27/30 - Train loss 1.029552 - Train Accuracy 0.641533 - Valid Loss 0.973231 - Valid Accuracy 0.661000\n",
            "Epoch: 28/30 - Train loss 1.027371 - Train Accuracy 0.639978 - Valid Loss 0.956516 - Valid Accuracy 0.669400\n",
            "Epoch: 29/30 - Train loss 1.022017 - Train Accuracy 0.640133 - Valid Loss 0.956795 - Valid Accuracy 0.676200\n",
            "Epoch: 30/30 - Train loss 1.020469 - Train Accuracy 0.643667 - Valid Loss 0.966732 - Valid Accuracy 0.669000\n"
          ]
        }
      ]
    },
    {
      "cell_type": "markdown",
      "source": [
        "Aún haciendo casi la misma cantidad de épocas, el modelo sigue teniendo mejores resultados con la red diseñada desde cero en el ejercicio anterior. "
      ],
      "metadata": {
        "id": "iaiAanvJhL-3"
      }
    },
    {
      "cell_type": "markdown",
      "source": [
        "# Entrenamiento actualizando los pesos de vgg11"
      ],
      "metadata": {
        "id": "EMkzsH7chV6e"
      }
    },
    {
      "cell_type": "code",
      "source": [
        "vgg11_model_2 = torchvision.models.vgg11(pretrained=True)\n",
        "\n",
        "vgg11_model_2.to(\"cuda\")\n",
        "\n",
        "torchsummary.summary(vgg11_model_2, input_size=(3, 32, 32))\n",
        "vgg11_model_2.modules"
      ],
      "metadata": {
        "colab": {
          "base_uri": "https://localhost:8080/"
        },
        "id": "7Iy-wgoIbfxz",
        "outputId": "a969dc3e-3f21-4227-fce0-2b4b98d61b40"
      },
      "execution_count": 35,
      "outputs": [
        {
          "output_type": "stream",
          "name": "stdout",
          "text": [
            "----------------------------------------------------------------\n",
            "        Layer (type)               Output Shape         Param #\n",
            "================================================================\n",
            "            Conv2d-1           [-1, 64, 32, 32]           1,792\n",
            "              ReLU-2           [-1, 64, 32, 32]               0\n",
            "         MaxPool2d-3           [-1, 64, 16, 16]               0\n",
            "            Conv2d-4          [-1, 128, 16, 16]          73,856\n",
            "              ReLU-5          [-1, 128, 16, 16]               0\n",
            "         MaxPool2d-6            [-1, 128, 8, 8]               0\n",
            "            Conv2d-7            [-1, 256, 8, 8]         295,168\n",
            "              ReLU-8            [-1, 256, 8, 8]               0\n",
            "            Conv2d-9            [-1, 256, 8, 8]         590,080\n",
            "             ReLU-10            [-1, 256, 8, 8]               0\n",
            "        MaxPool2d-11            [-1, 256, 4, 4]               0\n",
            "           Conv2d-12            [-1, 512, 4, 4]       1,180,160\n",
            "             ReLU-13            [-1, 512, 4, 4]               0\n",
            "           Conv2d-14            [-1, 512, 4, 4]       2,359,808\n",
            "             ReLU-15            [-1, 512, 4, 4]               0\n",
            "        MaxPool2d-16            [-1, 512, 2, 2]               0\n",
            "           Conv2d-17            [-1, 512, 2, 2]       2,359,808\n",
            "             ReLU-18            [-1, 512, 2, 2]               0\n",
            "           Conv2d-19            [-1, 512, 2, 2]       2,359,808\n",
            "             ReLU-20            [-1, 512, 2, 2]               0\n",
            "        MaxPool2d-21            [-1, 512, 1, 1]               0\n",
            "AdaptiveAvgPool2d-22            [-1, 512, 7, 7]               0\n",
            "           Linear-23                 [-1, 4096]     102,764,544\n",
            "             ReLU-24                 [-1, 4096]               0\n",
            "          Dropout-25                 [-1, 4096]               0\n",
            "           Linear-26                 [-1, 4096]      16,781,312\n",
            "             ReLU-27                 [-1, 4096]               0\n",
            "          Dropout-28                 [-1, 4096]               0\n",
            "           Linear-29                 [-1, 1000]       4,097,000\n",
            "================================================================\n",
            "Total params: 132,863,336\n",
            "Trainable params: 132,863,336\n",
            "Non-trainable params: 0\n",
            "----------------------------------------------------------------\n",
            "Input size (MB): 0.01\n",
            "Forward/backward pass size (MB): 2.94\n",
            "Params size (MB): 506.83\n",
            "Estimated Total Size (MB): 509.78\n",
            "----------------------------------------------------------------\n"
          ]
        },
        {
          "output_type": "execute_result",
          "data": {
            "text/plain": [
              "<bound method Module.modules of VGG(\n",
              "  (features): Sequential(\n",
              "    (0): Conv2d(3, 64, kernel_size=(3, 3), stride=(1, 1), padding=(1, 1))\n",
              "    (1): ReLU(inplace=True)\n",
              "    (2): MaxPool2d(kernel_size=2, stride=2, padding=0, dilation=1, ceil_mode=False)\n",
              "    (3): Conv2d(64, 128, kernel_size=(3, 3), stride=(1, 1), padding=(1, 1))\n",
              "    (4): ReLU(inplace=True)\n",
              "    (5): MaxPool2d(kernel_size=2, stride=2, padding=0, dilation=1, ceil_mode=False)\n",
              "    (6): Conv2d(128, 256, kernel_size=(3, 3), stride=(1, 1), padding=(1, 1))\n",
              "    (7): ReLU(inplace=True)\n",
              "    (8): Conv2d(256, 256, kernel_size=(3, 3), stride=(1, 1), padding=(1, 1))\n",
              "    (9): ReLU(inplace=True)\n",
              "    (10): MaxPool2d(kernel_size=2, stride=2, padding=0, dilation=1, ceil_mode=False)\n",
              "    (11): Conv2d(256, 512, kernel_size=(3, 3), stride=(1, 1), padding=(1, 1))\n",
              "    (12): ReLU(inplace=True)\n",
              "    (13): Conv2d(512, 512, kernel_size=(3, 3), stride=(1, 1), padding=(1, 1))\n",
              "    (14): ReLU(inplace=True)\n",
              "    (15): MaxPool2d(kernel_size=2, stride=2, padding=0, dilation=1, ceil_mode=False)\n",
              "    (16): Conv2d(512, 512, kernel_size=(3, 3), stride=(1, 1), padding=(1, 1))\n",
              "    (17): ReLU(inplace=True)\n",
              "    (18): Conv2d(512, 512, kernel_size=(3, 3), stride=(1, 1), padding=(1, 1))\n",
              "    (19): ReLU(inplace=True)\n",
              "    (20): MaxPool2d(kernel_size=2, stride=2, padding=0, dilation=1, ceil_mode=False)\n",
              "  )\n",
              "  (avgpool): AdaptiveAvgPool2d(output_size=(7, 7))\n",
              "  (classifier): Sequential(\n",
              "    (0): Linear(in_features=25088, out_features=4096, bias=True)\n",
              "    (1): ReLU(inplace=True)\n",
              "    (2): Dropout(p=0.5, inplace=False)\n",
              "    (3): Linear(in_features=4096, out_features=4096, bias=True)\n",
              "    (4): ReLU(inplace=True)\n",
              "    (5): Dropout(p=0.5, inplace=False)\n",
              "    (6): Linear(in_features=4096, out_features=1000, bias=True)\n",
              "  )\n",
              ")>"
            ]
          },
          "metadata": {},
          "execution_count": 35
        }
      ]
    },
    {
      "cell_type": "code",
      "source": [
        "last_layer_in_features_2 = vgg11_model_2.classifier[-1].in_features\n",
        "vgg11_model_2.classifier[-1] = torch.nn.Linear(in_features=last_layer_in_features_2, out_features=10)"
      ],
      "metadata": {
        "id": "oXZkemt0hncb"
      },
      "execution_count": 36,
      "outputs": []
    },
    {
      "cell_type": "code",
      "source": [
        "optimizer_ft_2 = torch.optim.Adam(vgg11_model_2.parameters(), lr=0.0001)\n",
        "criterion_2 = torch.nn.CrossEntropyLoss()"
      ],
      "metadata": {
        "id": "PpkKac2whx3-"
      },
      "execution_count": 37,
      "outputs": []
    },
    {
      "cell_type": "code",
      "source": [
        "def train(model, criterion, optimizer, train_loader, valid_loader, epochs):\n",
        "\n",
        "    accuracy_metric = torchmetrics.Accuracy()\n",
        "\n",
        "    if torch.cuda.is_available():\n",
        "        model.to(\"cuda\")\n",
        "        accuracy_metric.to(\"cuda\")\n",
        "\n",
        "    train_loss = []\n",
        "    train_acc = []\n",
        "    valid_loss = []\n",
        "    valid_acc = []\n",
        "\n",
        "    for epoch in range(epochs):\n",
        "\n",
        "        # Pongo el modelo en modo entrenamiento\n",
        "        model.train()\n",
        "\n",
        "        epoch_train_loss = 0.0\n",
        "        epoch_train_accuracy = 0.0\n",
        "\n",
        "        for train_data, train_target in train_loader:\n",
        "            \n",
        "            if torch.cuda.is_available():\n",
        "                train_data = train_data.to(\"cuda\")\n",
        "                train_target = train_target.to(\"cuda\")\n",
        "\n",
        "            optimizer.zero_grad()\n",
        "            output = model(train_data)\n",
        "            loss = criterion(output, train_target)\n",
        "            epoch_train_loss += loss.item()\n",
        "            loss.backward()\n",
        "            optimizer.step()\n",
        "\n",
        "            accuracy = accuracy_metric(output, train_target)\n",
        "            epoch_train_accuracy += accuracy.item()\n",
        "\n",
        "        epoch_train_loss = epoch_train_loss / len(train_loader)\n",
        "        epoch_train_accuracy = epoch_train_accuracy / len(train_loader)\n",
        "        train_loss.append(epoch_train_loss)\n",
        "        train_acc.append(epoch_train_accuracy)\n",
        "\n",
        "        # Pongo el modelo en modo testeo\n",
        "        model.eval()\n",
        "\n",
        "        epoch_valid_loss = 0.0\n",
        "        epoch_valid_accuracy = 0.0\n",
        "\n",
        "        for valid_data, valid_target in valid_loader:\n",
        "            if torch.cuda.is_available():\n",
        "                valid_data = valid_data.to(\"cuda\")\n",
        "                valid_target = valid_target.to(\"cuda\")\n",
        "\n",
        "            output = model(valid_data)\n",
        "            epoch_valid_loss += criterion(output, valid_target).item()\n",
        "            epoch_valid_accuracy += accuracy_metric(output, valid_target).item()\n",
        "            \n",
        "        epoch_valid_loss = epoch_valid_loss / len(valid_loader)\n",
        "        epoch_valid_accuracy = epoch_valid_accuracy / len(valid_loader)\n",
        "        valid_loss.append(epoch_valid_loss)\n",
        "        valid_acc.append(epoch_valid_accuracy)\n",
        "\n",
        "        print(\"Epoch: {}/{} - Train loss {:.6f} - Train Accuracy {:.6f} - Valid Loss {:.6f} - Valid Accuracy {:.6f}\".format(\n",
        "        epoch+1, epochs, epoch_train_loss, epoch_train_accuracy, epoch_valid_loss, epoch_valid_accuracy))\n",
        "\n",
        "    history = {}\n",
        "    history[\"train_loss\"] = train_loss\n",
        "    history[\"train_acc\"] = train_acc\n",
        "    history[\"valid_loss\"] = valid_loss\n",
        "    history[\"valid_acc\"] = valid_acc\n",
        "\n",
        "    return model, history"
      ],
      "metadata": {
        "id": "9CRhAshQh2cv"
      },
      "execution_count": 38,
      "outputs": []
    },
    {
      "cell_type": "code",
      "source": [
        "result_model_2, history = train(vgg11_model_2, criterion_2, optimizer_ft_2, train_loader, valid_loader, 3)"
      ],
      "metadata": {
        "colab": {
          "base_uri": "https://localhost:8080/"
        },
        "id": "-5crIl7viAY7",
        "outputId": "55b9b330-01ea-4591-a7c4-f8fcaf1dfd23"
      },
      "execution_count": 39,
      "outputs": [
        {
          "output_type": "stream",
          "name": "stdout",
          "text": [
            "Epoch: 1/3 - Train loss 0.785439 - Train Accuracy 0.735044 - Valid Loss 0.555159 - Valid Accuracy 0.817600\n",
            "Epoch: 2/3 - Train loss 0.473812 - Train Accuracy 0.842867 - Valid Loss 0.489339 - Valid Accuracy 0.840400\n",
            "Epoch: 3/3 - Train loss 0.356516 - Train Accuracy 0.880022 - Valid Loss 0.448891 - Valid Accuracy 0.852200\n"
          ]
        }
      ]
    },
    {
      "cell_type": "code",
      "source": [
        "plt.plot(history[\"train_loss\"])\n",
        "plt.plot(history[\"valid_loss\"])\n",
        "plt.title(\"Error de entrenamiento vs validación\")\n",
        "plt.legend(['Train', 'Valid'])\n",
        "plt.show()"
      ],
      "metadata": {
        "colab": {
          "base_uri": "https://localhost:8080/",
          "height": 281
        },
        "id": "Doos3F7zlu7O",
        "outputId": "667a3517-8734-46db-d123-0ef2f84376e9"
      },
      "execution_count": 40,
      "outputs": [
        {
          "output_type": "display_data",
          "data": {
            "text/plain": [
              "<Figure size 432x288 with 1 Axes>"
            ],
            "image/png": "[encoded data removed]"
          },
          "metadata": {
            "needs_background": "light"
          }
        }
      ]
    },
    {
      "cell_type": "markdown",
      "source": [
        "Con el modelo sin preentrenar tuvo una mejor performance pero tuve que evitar el overfitting haciendo data augmentation dado que el modelo es más complejo que el desarrollado en la clase 2. Con muy pocas épocas se llega a un 83% de accuary para validación. "
      ],
      "metadata": {
        "id": "1tnSWjqion3R"
      }
    },
    {
      "cell_type": "code",
      "source": [
        ""
      ],
      "metadata": {
        "id": "7cRIyXdso3yf"
      },
      "execution_count": null,
      "outputs": []
    }
  ]
}