{
 "cells": [
  {
   "cell_type": "code",
   "execution_count": 167,
   "id": "969cabd5",
   "metadata": {},
   "outputs": [],
   "source": [
    "import numpy as np"
   ]
  },
  {
   "cell_type": "code",
   "execution_count": 276,
   "id": "81f74a0e",
   "metadata": {},
   "outputs": [],
   "source": [
    "class Conv2d(object):\n",
    "    \n",
    "    def __init__(self, input_channels, kernels, kernel_size, stride, padding):\n",
    "        self.stride = stride\n",
    "        self.padding = padding\n",
    "        self.kernel_size = kernel_size\n",
    "        self.w = np.random.randn(kernels, input_channels, kernel_size, kernel_size)\n",
    "        self.b = np.random.randn(kernels)\n",
    "        self.last_output = None\n",
    "        self.last_input = None\n",
    "        \n",
    "    def zero_padding(self, X):\n",
    "        if self.padding == \"valid\":\n",
    "            return X\n",
    "        elif self.padding == \"same\":\n",
    "            pad = ((self.stride -1) * X.shape[0] - self.stride + self.kernel_size)/2\n",
    "            pad = int(pad)\n",
    "            X_padded = np.pad(X, ((0,0), (0,0), (pad, pad), (pad, pad)), mode='constant', constant_values = (0,0))\n",
    "            return X_padded, pad\n",
    "    \n",
    "    def convolve(self, X, W, b):\n",
    "        \"\"\"\n",
    "        Argumentos:\n",
    "        X: Array numpy de entrada con dimensiones (filter_size, filter_size, n_C_prev)\n",
    "        W: Array numpy con los pesos de un filtro con dimensiones (filter_size, filter_size, n_C_prev)\n",
    "        b: Entero con el valor de bias de la capa actual\n",
    "\n",
    "        Retorna:\n",
    "        Z: Entero con el valor del resultado\n",
    "        \"\"\"\n",
    "\n",
    "        # Multiplico elemento a elemento el valor de entrada con los pesos del filtro\n",
    "        aux = X * W\n",
    "        # Realizo la suma de todos los elementos\n",
    "        aux = np.sum(aux)\n",
    "        # Le sumo el valor del bias para obtener Z\n",
    "        Z = aux + float(b)\n",
    "        return Z\n",
    "    \n",
    "    def conv_forward(self, layer_input):\n",
    "        \"\"\"\n",
    "        Argumentos:\n",
    "        layer_input: Array numpy con los valores de entrada a la capa convolucional (batch_size, n_C_prev, n_H_prev, n_W_prev) \n",
    "\n",
    "        Retorna:\n",
    "        Z: Array numpy con los valores de salida de la capa convolucional (batch_size, n_H, n_W, n_C)\n",
    "        \"\"\"\n",
    "        self.last_input = layer_input\n",
    "\n",
    "        # Obtengo las dimensiones de la entrada\n",
    "        (batch_size, n_C_prev, n_H_prev, n_W_prev) = self.last_input.shape\n",
    "\n",
    "        # Obtengo las dimensiones de los filtros\n",
    "        (n_C, n_C_prev, kernel_size, kernel_size) = self.w.shape\n",
    "        \n",
    "        # Agrego padding con ceros al volumen de entrada\n",
    "        layer_input_padded, pad = self.zero_padding(self.last_input)\n",
    "        \n",
    "        n_H = int((n_H_prev + 2*pad - self.kernel_size)/self.stride + 1)\n",
    "        n_W = int((n_W_prev + 2*pad - self.kernel_size)/self.stride + 1)\n",
    "        \n",
    "        # Inicializo el volumen de salida con ceros\n",
    "        self.last_output = np.zeros([batch_size, n_C, n_H, n_W])\n",
    "\n",
    "        # Comienzo iterando sobre cada ejemplo del batch\n",
    "        for i in range(batch_size):\n",
    "            \n",
    "            # Itero sobre el eje vertical del volumen de salida\n",
    "            for h in range(n_H):\n",
    "                \n",
    "                # Calculo las coordenadas verticales de inicio y fin de la ventana sobre la que aplicaremos el filtro\n",
    "                y_start = self.stride * h\n",
    "                y_end = y_start + kernel_size\n",
    "                \n",
    "                # Itero sobre el eje horizontal del volumen de salida\n",
    "                for w in range(n_W):\n",
    "                    \n",
    "                    # Calculo las coordenadas horizontales de inicio y fin de la ventana sobre la que aplicaremos el filtro\n",
    "                    x_start = self.stride * w\n",
    "                    x_end = x_start + kernel_size\n",
    "\n",
    "                    # Extraigo la ventana para calcular la convolucion, del volumen de entrada con padding\n",
    "                    slice_from_input_padded = layer_input_padded[i, :, y_start:y_end, x_start:x_end]\n",
    "        \n",
    "                    # Itero sobre la cantidad de canales del volumen de salida\n",
    "                    for c in range(n_C):\n",
    "                        # Obtengo el valor del filtro y bias del canal correspondiente\n",
    "                        kernel = self.w[c, :, :, :]\n",
    "                        bias = self.b[c]\n",
    "\n",
    "                    # Computo la operación de convolución para esta ventana\n",
    "                        self.last_output[i, c, h, w] = self.convolve(slice_from_input_padded, kernel, bias)\n",
    "  \n",
    "        return self.last_output\n",
    "\n",
    "    def backward(self, dl_do, X_prev):\n",
    "        \n",
    "        #dimensiones de la capa anterior\n",
    "        (batch_size, n_H_prev, n_W_prev, n_C_prev) = X_prev.shape\n",
    "        \n",
    "        #dimensiones de W\n",
    "        (self.kernel_size, self.kernel_size,n_C_prev, n_C) = self.w.shape\n",
    "        \n",
    "        #padding\n",
    "        layer_input_padded, pad = self.zero_padding(X_prev)\n",
    "        \n",
    "        #dimensiones de dl_do\n",
    "        (batch_size, n_H, n_W, n_C) = dl_do.shape\n",
    "        \n",
    "        #incialización con las dimensiones correctas\n",
    "        dX_prev = np.zeros((batch_size, n_H_prev, n_W_prev, n_C_prev))                           \n",
    "        dW = np.zeros((self.kernel_size, self.kernel_size, n_C_prev, n_C))\n",
    "        db = np.zeros((1,1,1,n_C))\n",
    "        \n",
    "        X_prev_pad = self.zero_padding(X_prev)\n",
    "        dX_prev_pad = self.zero_padding(dX_prev)\n",
    "        \n",
    "        for i in range(batch_size):\n",
    "                \n",
    "                x_prev_pad = X_prev_pad[i]\n",
    "                dx_prev_pad = dX_prev_pad[i]\n",
    "                \n",
    "                for h in range(n_H):\n",
    "                    for w in range(n_W):\n",
    "                        for c in range(n_C): \n",
    "                            \n",
    "                            vert_start = h\n",
    "                            vert_end = vert_start + self.kernel_size\n",
    "                            horiz_start = w\n",
    "                            horiz_end = horiz_start + self.kernel_size\n",
    "                            \n",
    "                            x_slice = x_prev_pad[vert_start:vert_end, horiz_start:horiz_end, :]\n",
    "                            dx_prev_pad[vert_start:vert_end, horiz_start:horiz_end, :] += self.w[:,:,:,c] * dl_do[i, h, w, c]\n",
    "                            dW[c,:,:,:] += x_slice * dl_do[i, h, w, c]\n",
    "                            db[c,:,:,:] += dl_do[i, h, w, c]\n",
    "                            \n",
    "                dX_prev[i, :, :, :] = dx_prev_pad[pad:-pad, pad:-pad, :]\n",
    "        \n",
    "        assert(dX_prev.shape == (batch_size, n_C_prev, n_H_prev, n_W_prev))\n",
    "        \n",
    "        return dX_prev, dW, db           "
   ]
  },
  {
   "cell_type": "markdown",
   "id": "f703a95b",
   "metadata": {},
   "source": [
    "### Prueba padding"
   ]
  },
  {
   "cell_type": "code",
   "execution_count": 277,
   "id": "8fd7bdd7",
   "metadata": {},
   "outputs": [],
   "source": [
    "batch_size = 1\n",
    "input_height, input_width = (6, 6)\n",
    "input_channels = 1\n",
    "\n",
    "# Dimensiones de la convolucional\n",
    "filters = 8\n",
    "filter_size = 3\n",
    "stride = 1\n",
    "pad = \"same\"\n",
    "\n",
    "test_array = np.random.randn(batch_size, input_channels, input_height, input_width)"
   ]
  },
  {
   "cell_type": "code",
   "execution_count": 278,
   "id": "2761cb47",
   "metadata": {},
   "outputs": [],
   "source": [
    "conv = Conv2d(input_channels, filters, filter_size, stride, pad)"
   ]
  },
  {
   "cell_type": "code",
   "execution_count": 279,
   "id": "2f8b482d",
   "metadata": {},
   "outputs": [],
   "source": [
    "x_paded, pad = conv.zero_padding(test_array)"
   ]
  },
  {
   "cell_type": "code",
   "execution_count": 280,
   "id": "dced828e",
   "metadata": {},
   "outputs": [
    {
     "data": {
      "text/plain": [
       "1"
      ]
     },
     "execution_count": 280,
     "metadata": {},
     "output_type": "execute_result"
    }
   ],
   "source": [
    "pad"
   ]
  },
  {
   "cell_type": "code",
   "execution_count": 281,
   "id": "e6f90e5e",
   "metadata": {},
   "outputs": [
    {
     "data": {
      "text/plain": [
       "(1, 1, 8, 8)"
      ]
     },
     "execution_count": 281,
     "metadata": {},
     "output_type": "execute_result"
    }
   ],
   "source": [
    "x_paded.shape"
   ]
  },
  {
   "cell_type": "markdown",
   "id": "36daa1ac",
   "metadata": {},
   "source": [
    "### Prueba Convolve"
   ]
  },
  {
   "cell_type": "code",
   "execution_count": 282,
   "id": "072746aa",
   "metadata": {},
   "outputs": [],
   "source": [
    "conv_result = conv.conv_forward(test_array)"
   ]
  },
  {
   "cell_type": "code",
   "execution_count": 283,
   "id": "943890fc",
   "metadata": {},
   "outputs": [
    {
     "name": "stdout",
     "output_type": "stream",
     "text": [
      "Convolución: Result shape: (1, 8, 6, 6)\n",
      "Convolución: Result value: 0.8893865642213836\n"
     ]
    }
   ],
   "source": [
    "print(\"Convolución: Result shape: {}\".format(conv_result.shape))\n",
    "print(\"Convolución: Result value: {}\".format(conv_result[0,0,0,0]))"
   ]
  },
  {
   "cell_type": "markdown",
   "id": "734b9db3",
   "metadata": {},
   "source": [
    "### Prueba Backpropagation"
   ]
  },
  {
   "cell_type": "code",
   "execution_count": 284,
   "id": "951c8b2b",
   "metadata": {},
   "outputs": [
    {
     "ename": "ValueError",
     "evalue": "non-broadcastable output operand with shape (1,1,6,3) doesn't match the broadcast shape (1,8,6,3)",
     "output_type": "error",
     "traceback": [
      "\u001b[1;31m---------------------------------------------------------------------------\u001b[0m",
      "\u001b[1;31mValueError\u001b[0m                                Traceback (most recent call last)",
      "Input \u001b[1;32mIn [284]\u001b[0m, in \u001b[0;36m<cell line: 2>\u001b[1;34m()\u001b[0m\n\u001b[0;32m      1\u001b[0m dl_do \u001b[38;5;241m=\u001b[39m np\u001b[38;5;241m.\u001b[39mrandom\u001b[38;5;241m.\u001b[39mrandn(\u001b[38;5;241m1\u001b[39m,\u001b[38;5;241m8\u001b[39m,\u001b[38;5;241m6\u001b[39m,\u001b[38;5;241m6\u001b[39m)\n\u001b[1;32m----> 2\u001b[0m Backprop \u001b[38;5;241m=\u001b[39m \u001b[43mconv\u001b[49m\u001b[38;5;241;43m.\u001b[39;49m\u001b[43mbackward\u001b[49m\u001b[43m(\u001b[49m\u001b[43mdl_do\u001b[49m\u001b[43m,\u001b[49m\u001b[43m \u001b[49m\u001b[43mconv_result\u001b[49m\u001b[43m)\u001b[49m\n",
      "Input \u001b[1;32mIn [276]\u001b[0m, in \u001b[0;36mConv2d.backward\u001b[1;34m(self, dl_do, X_prev)\u001b[0m\n\u001b[0;32m    130\u001b[0m horiz_end \u001b[38;5;241m=\u001b[39m horiz_start \u001b[38;5;241m+\u001b[39m \u001b[38;5;28mself\u001b[39m\u001b[38;5;241m.\u001b[39mkernel_size\n\u001b[0;32m    132\u001b[0m x_slice \u001b[38;5;241m=\u001b[39m x_prev_pad[vert_start:vert_end, horiz_start:horiz_end, :]\n\u001b[1;32m--> 133\u001b[0m dx_prev_pad[vert_start:vert_end, horiz_start:horiz_end, :] \u001b[38;5;241m+\u001b[39m\u001b[38;5;241m=\u001b[39m \u001b[38;5;28mself\u001b[39m\u001b[38;5;241m.\u001b[39mw[:,:,:,c] \u001b[38;5;241m*\u001b[39m dl_do[i, h, w, c]\n\u001b[0;32m    134\u001b[0m dW[c,:,:,:] \u001b[38;5;241m+\u001b[39m\u001b[38;5;241m=\u001b[39m x_slice \u001b[38;5;241m*\u001b[39m dl_do[i, h, w, c]\n\u001b[0;32m    135\u001b[0m db[c,:,:,:] \u001b[38;5;241m+\u001b[39m\u001b[38;5;241m=\u001b[39m dl_do[i, h, w, c]\n",
      "\u001b[1;31mValueError\u001b[0m: non-broadcastable output operand with shape (1,1,6,3) doesn't match the broadcast shape (1,8,6,3)"
     ]
    }
   ],
   "source": [
    "dl_do = np.random.randn(1,8,6,6)\n",
    "Backprop = conv.backward(dl_do, conv_result)"
   ]
  },
  {
   "cell_type": "code",
   "execution_count": null,
   "id": "294dd21d",
   "metadata": {},
   "outputs": [],
   "source": []
  }
 ],
 "metadata": {
  "kernelspec": {
   "display_name": "vpc2",
   "language": "python",
   "name": "vpc2"
  },
  "language_info": {
   "codemirror_mode": {
    "name": "ipython",
    "version": 3
   },
   "file_extension": ".py",
   "mimetype": "text/x-python",
   "name": "python",
   "nbconvert_exporter": "python",
   "pygments_lexer": "ipython3",
   "version": "3.9.1"
  }
 },
 "nbformat": 4,
 "nbformat_minor": 5
}
